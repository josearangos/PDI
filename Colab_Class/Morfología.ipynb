{
  "nbformat": 4,
  "nbformat_minor": 0,
  "metadata": {
    "colab": {
      "name": "Morfología.ipynb",
      "provenance": [],
      "collapsed_sections": [],
      "authorship_tag": "ABX9TyMMNAD+NJq/2JGrgrpS8wPz",
      "include_colab_link": true
    },
    "kernelspec": {
      "name": "python3",
      "display_name": "Python 3"
    }
  },
  "cells": [
    {
      "cell_type": "markdown",
      "metadata": {
        "id": "view-in-github",
        "colab_type": "text"
      },
      "source": [
        "<a href=\"https://colab.research.google.com/github/josearangos/PDI/blob/Colab/Colab_Class/Morfolog%C3%ADa.ipynb\" target=\"_parent\"><img src=\"https://colab.research.google.com/assets/colab-badge.svg\" alt=\"Open In Colab\"/></a>"
      ]
    },
    {
      "cell_type": "code",
      "metadata": {
        "id": "FcekHktOML04",
        "colab_type": "code",
        "colab": {}
      },
      "source": [
        "import cv2\n",
        "import numpy as np\n",
        "import matplotlib.pyplot as plt\n",
        "from google.colab.patches import cv2_imshow"
      ],
      "execution_count": 0,
      "outputs": []
    },
    {
      "cell_type": "markdown",
      "metadata": {
        "id": "en94n882MI4C",
        "colab_type": "text"
      },
      "source": [
        "# Morfología"
      ]
    },
    {
      "cell_type": "code",
      "metadata": {
        "id": "D7FLjEELMQwu",
        "colab_type": "code",
        "colab": {
          "base_uri": "https://localhost:8080/",
          "height": 554
        },
        "outputId": "3e136d0a-c051-47da-b0ca-16b43b30edcd"
      },
      "source": [
        "! wget https://github.com/josearangos/PDI/raw/Colab/Resources/Image/figuras.bmp\n",
        "! wget https://github.com/josearangos/PDI/raw/Colab/Resources/Image/figuras_2.bmp"
      ],
      "execution_count": 2,
      "outputs": [
        {
          "output_type": "stream",
          "text": [
            "--2020-04-06 20:34:14--  https://github.com/josearangos/PDI/raw/Colab/Resources/Image/figuras.bmp\n",
            "Resolving github.com (github.com)... 140.82.113.3\n",
            "Connecting to github.com (github.com)|140.82.113.3|:443... connected.\n",
            "HTTP request sent, awaiting response... 302 Found\n",
            "Location: https://raw.githubusercontent.com/josearangos/PDI/Colab/Resources/Image/figuras.bmp [following]\n",
            "--2020-04-06 20:34:14--  https://raw.githubusercontent.com/josearangos/PDI/Colab/Resources/Image/figuras.bmp\n",
            "Resolving raw.githubusercontent.com (raw.githubusercontent.com)... 151.101.0.133, 151.101.64.133, 151.101.128.133, ...\n",
            "Connecting to raw.githubusercontent.com (raw.githubusercontent.com)|151.101.0.133|:443... connected.\n",
            "HTTP request sent, awaiting response... 200 OK\n",
            "Length: 378278 (369K) [image/bmp]\n",
            "Saving to: ‘figuras.bmp’\n",
            "\n",
            "\rfiguras.bmp           0%[                    ]       0  --.-KB/s               \rfiguras.bmp         100%[===================>] 369.41K  --.-KB/s    in 0.05s   \n",
            "\n",
            "2020-04-06 20:34:14 (7.28 MB/s) - ‘figuras.bmp’ saved [378278/378278]\n",
            "\n",
            "--2020-04-06 20:34:15--  https://github.com/josearangos/PDI/raw/Colab/Resources/Image/figuras_2.bmp\n",
            "Resolving github.com (github.com)... 140.82.114.4\n",
            "Connecting to github.com (github.com)|140.82.114.4|:443... connected.\n",
            "HTTP request sent, awaiting response... 302 Found\n",
            "Location: https://raw.githubusercontent.com/josearangos/PDI/Colab/Resources/Image/figuras_2.bmp [following]\n",
            "--2020-04-06 20:34:15--  https://raw.githubusercontent.com/josearangos/PDI/Colab/Resources/Image/figuras_2.bmp\n",
            "Resolving raw.githubusercontent.com (raw.githubusercontent.com)... 151.101.0.133, 151.101.64.133, 151.101.128.133, ...\n",
            "Connecting to raw.githubusercontent.com (raw.githubusercontent.com)|151.101.0.133|:443... connected.\n",
            "HTTP request sent, awaiting response... 200 OK\n",
            "Length: 47902 (47K) [image/bmp]\n",
            "Saving to: ‘figuras_2.bmp’\n",
            "\n",
            "figuras_2.bmp       100%[===================>]  46.78K  --.-KB/s    in 0.02s   \n",
            "\n",
            "2020-04-06 20:34:15 (1.91 MB/s) - ‘figuras_2.bmp’ saved [47902/47902]\n",
            "\n"
          ],
          "name": "stdout"
        }
      ]
    },
    {
      "cell_type": "markdown",
      "metadata": {
        "id": "3sUu2cu7M7r9",
        "colab_type": "text"
      },
      "source": [
        "## Parte 1 de la clase"
      ]
    },
    {
      "cell_type": "code",
      "metadata": {
        "id": "P2IV1PxsM184",
        "colab_type": "code",
        "colab": {}
      },
      "source": [
        "a = cv2.imread('figuras.bmp',0) #Leemos una imagen\n",
        "fil,col = a.shape # Extraemos su número de filas y columnas\n",
        "ee = cv2.getStructuringElement(cv2.MORPH_RECT,(5,5)) #Creamos un elemento estructurante (Una matriz de tamaño 5*5 que está dispuesta de manera rectangular)"
      ],
      "execution_count": 0,
      "outputs": []
    },
    {
      "cell_type": "markdown",
      "metadata": {
        "id": "gTIjuz_jNFje",
        "colab_type": "text"
      },
      "source": [
        "Mostramos la imagen que leímos"
      ]
    },
    {
      "cell_type": "code",
      "metadata": {
        "id": "P4-clUjTNJqi",
        "colab_type": "code",
        "colab": {
          "base_uri": "https://localhost:8080/",
          "height": 477
        },
        "outputId": "224fd01b-f6b7-4988-e34d-5ff4adc169ce"
      },
      "source": [
        "cv2_imshow(a) #Mostramos la imagen que leímos"
      ],
      "execution_count": 5,
      "outputs": [
        {
          "output_type": "display_data",
          "data": {
            "image/png": "[encoded data removed]",
            "text/plain": [
              "<PIL.Image.Image image mode=L size=819x460 at 0x7FDF39D74208>"
            ]
          },
          "metadata": {
            "tags": []
          }
        }
      ]
    },
    {
      "cell_type": "markdown",
      "metadata": {
        "id": "bMxmA520NQsB",
        "colab_type": "text"
      },
      "source": [
        "Mostramos la imagen erosionada"
      ]
    },
    {
      "cell_type": "code",
      "metadata": {
        "id": "egnBpL06NOAl",
        "colab_type": "code",
        "colab": {
          "base_uri": "https://localhost:8080/",
          "height": 477
        },
        "outputId": "375a852d-05a9-42fc-b813-b05b3594ae2f"
      },
      "source": [
        "erosion = cv2.erode(a,ee,iterations = 15) #le aplicamos una erosión 15 veces con el elemento estrucurante que creamos antes\n",
        "cv2_imshow(erosion) #Mostramos la imagen erosionada"
      ],
      "execution_count": 6,
      "outputs": [
        {
          "output_type": "display_data",
          "data": {
            "image/png": "[encoded data removed]",
            "text/plain": [
              "<PIL.Image.Image image mode=L size=819x460 at 0x7FDF39CD2978>"
            ]
          },
          "metadata": {
            "tags": []
          }
        }
      ]
    },
    {
      "cell_type": "markdown",
      "metadata": {
        "id": "qOPuWcMTQHT1",
        "colab_type": "text"
      },
      "source": [
        "## Parte 2 de la clase"
      ]
    },
    {
      "cell_type": "code",
      "metadata": {
        "id": "v32yw_TeNUCb",
        "colab_type": "code",
        "colab": {}
      },
      "source": [
        "a = cv2.imread('figuras_2.bmp',0) #Leemos una imagen\n",
        "b = cv2.morphologyEx(a,cv2.MORPH_OPEN,ee) #La aplicamos una apertura"
      ],
      "execution_count": 0,
      "outputs": []
    },
    {
      "cell_type": "markdown",
      "metadata": {
        "id": "YjufDMpJQP5L",
        "colab_type": "text"
      },
      "source": [
        "Mostramos la imagen"
      ]
    },
    {
      "cell_type": "code",
      "metadata": {
        "id": "_v9Rs1jBQNW0",
        "colab_type": "code",
        "colab": {
          "base_uri": "https://localhost:8080/",
          "height": 477
        },
        "outputId": "a0297125-dae1-4c5a-e6f0-0bd6958935f0"
      },
      "source": [
        "cv2_imshow(b)"
      ],
      "execution_count": 8,
      "outputs": [
        {
          "output_type": "display_data",
          "data": {
            "image/png": "[encoded data removed]",
            "text/plain": [
              "<PIL.Image.Image image mode=L size=819x460 at 0x7FDF39C8A780>"
            ]
          },
          "metadata": {
            "tags": []
          }
        }
      ]
    },
    {
      "cell_type": "code",
      "metadata": {
        "id": "R8pO4ty7QTz5",
        "colab_type": "code",
        "colab": {}
      },
      "source": [
        "c = cv2.morphologyEx(a,cv2.MORPH_CLOSE,ee) #Aplicamos un cierre a la imagen\n",
        "cv2_imshow(c)"
      ],
      "execution_count": 0,
      "outputs": []
    },
    {
      "cell_type": "markdown",
      "metadata": {
        "id": "swAtEXyVQf8A",
        "colab_type": "text"
      },
      "source": [
        "## Parte 3 de la clase"
      ]
    },
    {
      "cell_type": "code",
      "metadata": {
        "id": "EHnhEYlvQZZw",
        "colab_type": "code",
        "colab": {}
      },
      "source": [
        "a = cv2.imread('figuras_2.bmp',0) #Leemos una imagen\n",
        "ee = cv2.getStructuringElement(cv2.MORPH_RECT,(5,5)) #Creamos nuestro elemento estructurante\n",
        "b = cv2.erode(a,ee,iterations = 10) #le hacemos una erosión\n",
        "c = np.subtract(a,b) #Restamos a la imagen original la erosonada\n",
        "ab = np.concatenate((a,b)) #Creamos una donde estén juntas la original y la erosionada"
      ],
      "execution_count": 0,
      "outputs": []
    },
    {
      "cell_type": "markdown",
      "metadata": {
        "id": "FfUPKb-AQ0LY",
        "colab_type": "text"
      },
      "source": [
        "Mostramos la imagen original y la erosionada"
      ]
    },
    {
      "cell_type": "code",
      "metadata": {
        "id": "RjmTYimuQwq_",
        "colab_type": "code",
        "colab": {
          "base_uri": "https://localhost:8080/",
          "height": 937
        },
        "outputId": "7a2d460d-f2df-4a88-d0cf-ee4c4fd686a6"
      },
      "source": [
        "cv2_imshow(ab)"
      ],
      "execution_count": 11,
      "outputs": [
        {
          "output_type": "display_data",
          "data": {
            "image/png": "[encoded data removed]",
            "text/plain": [
              "<PIL.Image.Image image mode=L size=819x920 at 0x7FDF39C8ACC0>"
            ]
          },
          "metadata": {
            "tags": []
          }
        }
      ]
    },
    {
      "cell_type": "markdown",
      "metadata": {
        "id": "sh2qZj3MQ7QC",
        "colab_type": "text"
      },
      "source": [
        "Mostramos la imagen que corresponde a la resta de las dos anteriores"
      ]
    },
    {
      "cell_type": "code",
      "metadata": {
        "id": "-9ZXIJw8Q2Ft",
        "colab_type": "code",
        "colab": {
          "base_uri": "https://localhost:8080/",
          "height": 477
        },
        "outputId": "4606d58d-4b3c-48a2-8818-15138651a114"
      },
      "source": [
        "cv2_imshow(c)"
      ],
      "execution_count": 12,
      "outputs": [
        {
          "output_type": "display_data",
          "data": {
            "image/png": "[encoded data removed]",
            "text/plain": [
              "<PIL.Image.Image image mode=L size=819x460 at 0x7FDF39C8AC88>"
            ]
          },
          "metadata": {
            "tags": []
          }
        }
      ]
    },
    {
      "cell_type": "code",
      "metadata": {
        "id": "C_pJn11GQ-I3",
        "colab_type": "code",
        "colab": {}
      },
      "source": [
        ""
      ],
      "execution_count": 0,
      "outputs": []
    }
  ]
}