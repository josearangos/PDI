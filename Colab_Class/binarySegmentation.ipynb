{
  "nbformat": 4,
  "nbformat_minor": 0,
  "metadata": {
    "colab": {
      "name": "binarySegmentation.ipynb",
      "provenance": [],
      "authorship_tag": "ABX9TyNjj3NrGpq+tTNvJFQ0BxqC",
      "include_colab_link": true
    },
    "kernelspec": {
      "name": "python3",
      "display_name": "Python 3"
    }
  },
  "cells": [
    {
      "cell_type": "markdown",
      "metadata": {
        "id": "view-in-github",
        "colab_type": "text"
      },
      "source": [
        "<a href=\"https://colab.research.google.com/github/josearangos/PDI/blob/Colab/Colab_Class/binarySegmentation.ipynb\" target=\"_parent\"><img src=\"https://colab.research.google.com/assets/colab-badge.svg\" alt=\"Open In Colab\"/></a>"
      ]
    },
    {
      "cell_type": "code",
      "metadata": {
        "id": "hM7m2oomUIBh",
        "colab_type": "code",
        "colab": {}
      },
      "source": [
        "import cv2\n",
        "import numpy as np\n",
        "import matplotlib.pyplot as plt\n",
        "from google.colab.patches import cv2_imshow"
      ],
      "execution_count": 0,
      "outputs": []
    },
    {
      "cell_type": "markdown",
      "metadata": {
        "id": "di6UYxdEUGXC",
        "colab_type": "text"
      },
      "source": [
        "## Segmentación binaria\n",
        "\n",
        "\n",
        "### Actividad\n",
        "\n",
        "En esta clase se analiza una imagen binarizada de un carro(entrada) en donde se resalta la placa y se busca sacar solo la placa\n",
        "\n"
      ]
    },
    {
      "cell_type": "code",
      "metadata": {
        "id": "h_YKs5WbUS-n",
        "colab_type": "code",
        "colab": {
          "base_uri": "https://localhost:8080/",
          "height": 554
        },
        "outputId": "08194c31-536c-47ae-b578-28a6b1a75d90"
      },
      "source": [
        "! wget https://github.com/josearangos/PDI/raw/Colab/Resources/Image/placa_bina.png\n",
        "! wget https://github.com/josearangos/PDI/raw/Colab/Resources/Image/carro_shape.jpg"
      ],
      "execution_count": 2,
      "outputs": [
        {
          "output_type": "stream",
          "text": [
            "--2020-04-02 23:57:55--  https://github.com/josearangos/PDI/raw/Colab/Resources/Image/placa_bina.png\n",
            "Resolving github.com (github.com)... 140.82.113.4\n",
            "Connecting to github.com (github.com)|140.82.113.4|:443... connected.\n",
            "HTTP request sent, awaiting response... 302 Found\n",
            "Location: https://raw.githubusercontent.com/josearangos/PDI/Colab/Resources/Image/placa_bina.png [following]\n",
            "--2020-04-02 23:57:55--  https://raw.githubusercontent.com/josearangos/PDI/Colab/Resources/Image/placa_bina.png\n",
            "Resolving raw.githubusercontent.com (raw.githubusercontent.com)... 151.101.0.133, 151.101.64.133, 151.101.128.133, ...\n",
            "Connecting to raw.githubusercontent.com (raw.githubusercontent.com)|151.101.0.133|:443... connected.\n",
            "HTTP request sent, awaiting response... 200 OK\n",
            "Length: 6484 (6.3K) [image/png]\n",
            "Saving to: ‘placa_bina.png’\n",
            "\n",
            "\rplaca_bina.png        0%[                    ]       0  --.-KB/s               \rplaca_bina.png      100%[===================>]   6.33K  --.-KB/s    in 0s      \n",
            "\n",
            "2020-04-02 23:57:55 (103 MB/s) - ‘placa_bina.png’ saved [6484/6484]\n",
            "\n",
            "--2020-04-02 23:57:56--  https://github.com/josearangos/PDI/raw/Colab/Resources/Image/carro_shape.jpg\n",
            "Resolving github.com (github.com)... 140.82.113.4\n",
            "Connecting to github.com (github.com)|140.82.113.4|:443... connected.\n",
            "HTTP request sent, awaiting response... 302 Found\n",
            "Location: https://raw.githubusercontent.com/josearangos/PDI/Colab/Resources/Image/carro_shape.jpg [following]\n",
            "--2020-04-02 23:57:56--  https://raw.githubusercontent.com/josearangos/PDI/Colab/Resources/Image/carro_shape.jpg\n",
            "Resolving raw.githubusercontent.com (raw.githubusercontent.com)... 151.101.0.133, 151.101.64.133, 151.101.128.133, ...\n",
            "Connecting to raw.githubusercontent.com (raw.githubusercontent.com)|151.101.0.133|:443... connected.\n",
            "HTTP request sent, awaiting response... 200 OK\n",
            "Length: 142567 (139K) [image/jpeg]\n",
            "Saving to: ‘carro_shape.jpg’\n",
            "\n",
            "carro_shape.jpg     100%[===================>] 139.23K  --.-KB/s    in 0.04s   \n",
            "\n",
            "2020-04-02 23:57:56 (3.64 MB/s) - ‘carro_shape.jpg’ saved [142567/142567]\n",
            "\n"
          ],
          "name": "stdout"
        }
      ]
    },
    {
      "cell_type": "markdown",
      "metadata": {
        "id": "UyqxfrydXDiE",
        "colab_type": "text"
      },
      "source": [
        "## Leemos la imagen"
      ]
    },
    {
      "cell_type": "code",
      "metadata": {
        "id": "E-fkiKiyVG_q",
        "colab_type": "code",
        "colab": {
          "base_uri": "https://localhost:8080/",
          "height": 752
        },
        "outputId": "250e3c3c-2f5b-4455-f5eb-2de129dc68b1"
      },
      "source": [
        "a = cv2.imread('placa_bina.png',0) #Leemos nuestra imagen de dos dimensiones\n",
        "b = a.copy() #Creamos una copia\n",
        "fil,col = b.shape #Guardamos sus dimensiones en variables separadas\n",
        "cv2_imshow(b)"
      ],
      "execution_count": 16,
      "outputs": [
        {
          "output_type": "display_data",
          "data": {
            "image/png": "[encoded data removed]",
            "text/plain": [
              "<PIL.Image.Image image mode=L size=980x735 at 0x7F8838FC85C0>"
            ]
          },
          "metadata": {
            "tags": []
          }
        }
      ]
    },
    {
      "cell_type": "markdown",
      "metadata": {
        "id": "HAAGMMivW7Iu",
        "colab_type": "text"
      },
      "source": [
        "## Aplicamos la mascara"
      ]
    },
    {
      "cell_type": "code",
      "metadata": {
        "id": "0ScPkpAoWJYB",
        "colab_type": "code",
        "colab": {
          "base_uri": "https://localhost:8080/",
          "height": 752
        },
        "outputId": "5d954ef0-80fd-4e6c-d111-2f4784f021b5"
      },
      "source": [
        "a = cv2.threshold(a,127,255,cv2.THRESH_BINARY)[1] #Convertimos nuestra imagen para hacerla de una sola dimensión para poder aplicar la función de conectividad con la cual etiquetaremos las secciones que están interconectadas\n",
        "ret, labels = cv2.connectedComponents(a,4) #Guardamos el número de etiquetas y una matriz que contiene el valor de cada pixel (La etiqueta que le corresponde)\n",
        "#MAP COMPONENTS TO HUE VAL (formula to hsv) Con esta formula tomamos la matriz de etiquetas resultantes y creamos una imagen con pseudo colores de nuestra imagen original pero con los pixeles que comparten etiqueta del mismo color\n",
        "label_hue = np.uint8(179*labels/np.max(labels))\n",
        "blank_ch = 255*np.ones_like(label_hue)\n",
        "labeled_a = cv2.merge([label_hue, blank_ch, blank_ch])\n",
        "#cvt to bgr for display\n",
        "labeled_a = cv2.cvtColor(labeled_a, cv2.COLOR_HSV2BGR)\n",
        "#Convert background to black\n",
        "labeled_a[label_hue==0] = 255 #Convertimos en cero los pixeles que en la matriz de etiquetas son cero\n",
        "cv2_imshow(labeled_a)\n"
      ],
      "execution_count": 18,
      "outputs": [
        {
          "output_type": "display_data",
          "data": {
            "image/png": "[encoded data removed]",
            "text/plain": [
              "<PIL.Image.Image image mode=RGB size=980x735 at 0x7F883978DB70>"
            ]
          },
          "metadata": {
            "tags": []
          }
        }
      ]
    },
    {
      "cell_type": "markdown",
      "metadata": {
        "id": "7PUdsCDjWypS",
        "colab_type": "text"
      },
      "source": [
        "## Graficamos la distribución de pixeles"
      ]
    },
    {
      "cell_type": "code",
      "metadata": {
        "id": "eQKzGxW4WgTN",
        "colab_type": "code",
        "colab": {
          "base_uri": "https://localhost:8080/",
          "height": 265
        },
        "outputId": "5bd9cefd-7a4d-40ca-994e-91a22d6d3e4d"
      },
      "source": [
        "#Con las dos líneas de código anteriores hacemos cero los valores no etiquetados para mostrarlos en negro\n",
        "total = [] #Creamos un arreglo para guardar el numero de pixeles que comparten cada etiqueta por etiqueta\n",
        "valor = 0 #Variable que almacenará el número de pixeles que comparten una etiqueta\n",
        "#Con las dos líneas de código anteriores hacemos cero los valores no etiquetados para mostrarlos en negro\n",
        "for i in range (1,ret): #Con este ciclo for guardamos el número de pixeles que tiene cada etiqueta y lo guardamos en una lista\n",
        "    valor = i\n",
        "    c = b*0\n",
        "    c[labels == i] = 1\n",
        "    suma = np.sum(c)\n",
        "    total = [(valor,suma)] + total\n",
        "x_list = [l[0] for l in total] #Extraemos de la lista el valor de cada etiqueta\n",
        "y_list = [l[1] for l in total] #Extraemos el valor de la suma de cada etiqueta\n",
        "\n",
        "y_list = np.uint32(y_list) #Convertimos los valores obtenidos en la suma de pixeles de la etiqueta a 32 bits\n",
        "plt.scatter(x_list,y_list) # Graficamos los calor x = etiquetas y = valor suma pixeles etiquera\n",
        "plt.show() #Mostramos la gráfica"
      ],
      "execution_count": 19,
      "outputs": [
        {
          "output_type": "display_data",
          "data": {
            "image/png": "[encoded data removed]",
            "text/plain": [
              "<Figure size 432x288 with 1 Axes>"
            ]
          },
          "metadata": {
            "tags": []
          }
        }
      ]
    },
    {
      "cell_type": "code",
      "metadata": {
        "id": "_ZRDjGgwVU5c",
        "colab_type": "code",
        "colab": {
          "base_uri": "https://localhost:8080/",
          "height": 752
        },
        "outputId": "1c692ff1-38fb-40d7-9db3-0f19a8c3237c"
      },
      "source": [
        "\n",
        "d = cv2.imread('carro_shape.jpg',1) #Leemos la imagen que extraímos en formato s de hsv\n",
        "mx = np.max(total) #Buscamos la etiqueta que tienen el mayor número de pixeles interconectados\n",
        "ind = []\n",
        "ind = np.where(mx==total) # Guardamos en un arreglo cada pixel que tenga el valor de mx\n",
        "c = b*0 # Creamos una matriz vacia del tamaño de b (La imagen que tenemos de carro en 3 capas)\n",
        "c[labels == 262] = 255 #Cada pixel que tenga el valor de la etiqueta con más pixeles que la conforman lo hacemos 255 (negro)\n",
        "cv2_imshow(c)  #Mostramos la imagen obtenida en la linea de código anterior\n",
        "x,y = np.where(c>0) #Guardamos las coordenadas de cada pixel en negro (255) de C\n",
        "fm = np.min(x) #Guardamos su valor mínimo en x\n",
        "fx = np.max(x) #Guardamos su valor máximo en x\n",
        "cm = np.min(y) #Guardamos su valor mínimo en y\n",
        "cx = np.max(y) #Guardamos su valor máximo en y\n",
        "d = d[fm:fx,cm:cx,:] #Tomamos de la imagen origianl el area encerrada por los valores obtenido en las cuatro líneas de código anterior\n"
      ],
      "execution_count": 23,
      "outputs": [
        {
          "output_type": "display_data",
          "data": {
            "image/png": "[encoded data removed]",
            "text/plain": [
              "<PIL.Image.Image image mode=L size=980x735 at 0x7F8835A172E8>"
            ]
          },
          "metadata": {
            "tags": []
          }
        }
      ]
    },
    {
      "cell_type": "markdown",
      "metadata": {
        "id": "9VFQiol_WqZU",
        "colab_type": "text"
      },
      "source": [
        "## Resultado placa"
      ]
    },
    {
      "cell_type": "code",
      "metadata": {
        "id": "JOhm9EE4Wj2-",
        "colab_type": "code",
        "colab": {
          "base_uri": "https://localhost:8080/",
          "height": 72
        },
        "outputId": "b51ff30e-4e14-48b8-d846-4791c68bedb3"
      },
      "source": [
        "cv2_imshow(d) #Mostramos la imagen obtenida"
      ],
      "execution_count": 22,
      "outputs": [
        {
          "output_type": "display_data",
          "data": {
            "image/png": "[encoded data removed]",
            "text/plain": [
              "<PIL.Image.Image image mode=RGB size=125x55 at 0x7F8835A1C860>"
            ]
          },
          "metadata": {
            "tags": []
          }
        }
      ]
    }
  ]
}