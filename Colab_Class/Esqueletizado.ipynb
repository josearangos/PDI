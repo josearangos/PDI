{
  "nbformat": 4,
  "nbformat_minor": 0,
  "metadata": {
    "colab": {
      "name": "Esqueletizado.ipynb",
      "provenance": [],
      "authorship_tag": "ABX9TyMbaRWpJkoTAsBL0OMXO/z6",
      "include_colab_link": true
    },
    "kernelspec": {
      "name": "python3",
      "display_name": "Python 3"
    }
  },
  "cells": [
    {
      "cell_type": "markdown",
      "metadata": {
        "id": "view-in-github",
        "colab_type": "text"
      },
      "source": [
        "<a href=\"https://colab.research.google.com/github/josearangos/PDI/blob/Colab/Colab_Class/Esqueletizado.ipynb\" target=\"_parent\"><img src=\"https://colab.research.google.com/assets/colab-badge.svg\" alt=\"Open In Colab\"/></a>"
      ]
    },
    {
      "cell_type": "markdown",
      "metadata": {
        "id": "YgFotz5iUBUO",
        "colab_type": "text"
      },
      "source": [
        "# Skeletonization\n"
      ]
    },
    {
      "cell_type": "code",
      "metadata": {
        "id": "18k2U7HeSn9T",
        "colab_type": "code",
        "colab": {}
      },
      "source": [
        "import cv2\n",
        "import numpy as np\n",
        "from google.colab.patches import cv2_imshow"
      ],
      "execution_count": 0,
      "outputs": []
    },
    {
      "cell_type": "code",
      "metadata": {
        "id": "pndohSzpUkrY",
        "colab_type": "code",
        "colab": {
          "base_uri": "https://localhost:8080/",
          "height": 286
        },
        "outputId": "24629a61-4513-40e4-afff-50ceddb9a090"
      },
      "source": [
        "! wget https://github.com/josearangos/PDI/raw/Colab/Resources/Image/sofsk.png"
      ],
      "execution_count": 3,
      "outputs": [
        {
          "output_type": "stream",
          "text": [
            "--2020-04-06 21:12:07--  https://github.com/josearangos/PDI/raw/Colab/Resources/Image/sofsk.png\n",
            "Resolving github.com (github.com)... 140.82.113.4\n",
            "Connecting to github.com (github.com)|140.82.113.4|:443... connected.\n",
            "HTTP request sent, awaiting response... 302 Found\n",
            "Location: https://raw.githubusercontent.com/josearangos/PDI/Colab/Resources/Image/sofsk.png [following]\n",
            "--2020-04-06 21:12:08--  https://raw.githubusercontent.com/josearangos/PDI/Colab/Resources/Image/sofsk.png\n",
            "Resolving raw.githubusercontent.com (raw.githubusercontent.com)... 151.101.0.133, 151.101.64.133, 151.101.128.133, ...\n",
            "Connecting to raw.githubusercontent.com (raw.githubusercontent.com)|151.101.0.133|:443... connected.\n",
            "HTTP request sent, awaiting response... 200 OK\n",
            "Length: 713 [image/png]\n",
            "Saving to: ‘sofsk.png’\n",
            "\n",
            "sofsk.png           100%[===================>]     713  --.-KB/s    in 0s      \n",
            "\n",
            "2020-04-06 21:12:08 (32.9 MB/s) - ‘sofsk.png’ saved [713/713]\n",
            "\n"
          ],
          "name": "stdout"
        }
      ]
    },
    {
      "cell_type": "code",
      "metadata": {
        "id": "-4uvLN_IV2tH",
        "colab_type": "code",
        "colab": {
          "base_uri": "https://localhost:8080/",
          "height": 117
        },
        "outputId": "ddbb4acc-065f-42ea-d1d6-b0ad41bd3df9"
      },
      "source": [
        "img = cv2.imread('sofsk.png',0)\n",
        "cv2_imshow(img)"
      ],
      "execution_count": 7,
      "outputs": [
        {
          "output_type": "display_data",
          "data": {
            "image/png": "[encoded data removed]",
            "text/plain": [
              "<PIL.Image.Image image mode=L size=300x100 at 0x7FA0BAF7D278>"
            ]
          },
          "metadata": {
            "tags": []
          }
        }
      ]
    },
    {
      "cell_type": "code",
      "metadata": {
        "id": "rQ00rwNcSo-B",
        "colab_type": "code",
        "colab": {}
      },
      "source": [
        "img = cv2.imread('sofsk.png',0)\n",
        "size = np.size(img)\n",
        "skel = np.zeros(img.shape,np.uint8)\n",
        " \n",
        "ret,img = cv2.threshold(img,127,255,0) \n",
        "element = cv2.getStructuringElement(cv2.MORPH_CROSS,(3,3)) #Definimos el elemento estructural\n",
        "done = False\n",
        " \n",
        "while( not done):\n",
        "    eroded = cv2.erode(img,element) #Realizamos erosion\n",
        "    temp = cv2.dilate(eroded,element) #Realizamos dilatacion\n",
        "    temp = cv2.subtract(img,temp) #restamos el erosion-dilatacion a la imagen original\n",
        "    skel = cv2.bitwise_or(skel,temp)\n",
        "    img = eroded.copy() #actualizamos la imagen\n",
        " \n",
        "    zeros = size - cv2.countNonZero(img)\n",
        "    if zeros==size:\n",
        "        done = True"
      ],
      "execution_count": 0,
      "outputs": []
    },
    {
      "cell_type": "code",
      "metadata": {
        "id": "s9-Wm0VjVU9B",
        "colab_type": "code",
        "colab": {
          "base_uri": "https://localhost:8080/",
          "height": 117
        },
        "outputId": "38e4f95a-37b8-4cca-d2e8-852d01de3a28"
      },
      "source": [
        "cv2_imshow(np.hstack([skel]))"
      ],
      "execution_count": 8,
      "outputs": [
        {
          "output_type": "display_data",
          "data": {
            "image/png": "[encoded data removed]",
            "text/plain": [
              "<PIL.Image.Image image mode=L size=300x100 at 0x7FA0BAF7D278>"
            ]
          },
          "metadata": {
            "tags": []
          }
        }
      ]
    }
  ]
}